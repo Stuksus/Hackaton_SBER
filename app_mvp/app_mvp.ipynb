{
  "nbformat": 4,
  "nbformat_minor": 0,
  "metadata": {
    "colab": {
      "name": "MEGQUANT_SBER_MVP.ipynb",
      "provenance": [],
      "collapsed_sections": []
    },
    "kernelspec": {
      "name": "python3",
      "display_name": "Python 3"
    },
    "language_info": {
      "name": "python"
    }
  },
  "cells": [
    {
      "cell_type": "markdown",
      "source": [
        "Приложение открывается по ссылке из результата последней ячейки: \n",
        "\n",
        "`...`\n",
        "\n",
        "`your url is: ТУТА ССЫЛКА НА ПРИЛОЖЕНИЕ`\n",
        "\n",
        "\n",
        "`...`"
      ],
      "metadata": {
        "id": "yYp6P3t-rezs"
      }
    },
    {
      "cell_type": "code",
      "source": [
        "!wget https://raw.githubusercontent.com/Stuksus/Hackaton_SBER/main/app_mvp/mvp_files.zip\n",
        "!unzip mvp_files.zip"
      ],
      "metadata": {
        "id": "qR_PLbbmzm5S"
      },
      "execution_count": null,
      "outputs": []
    },
    {
      "cell_type": "code",
      "source": [
        "!pip install streamlit -q\n",
        "!pip install streamlit-aggrid \n",
        "!pip install pdpbox"
      ],
      "metadata": {
        "id": "yOhfGxSQsgJw"
      },
      "execution_count": null,
      "outputs": []
    },
    {
      "cell_type": "code",
      "source": [
        "import pandas as pd\n",
        "df_test  = pd.read_csv('https://raw.githubusercontent.com/BKHV/risk_models/master/data/PD-data-test.csv', sep=';')\n",
        "df_train = pd.read_csv('https://raw.githubusercontent.com/BKHV/risk_models/master/data/PD-data-train.csv', sep=';')"
      ],
      "metadata": {
        "id": "TmYL4t3gsGnJ"
      },
      "execution_count": null,
      "outputs": []
    },
    {
      "cell_type": "code",
      "source": [
        "!streamlit run app.py & npx localtunnel --port 8501"
      ],
      "metadata": {
        "colab": {
          "base_uri": "https://localhost:8080/"
        },
        "id": "7T2NnLbrWAwO",
        "outputId": "19662f90-8628-4638-aa3a-325b1d92dd10"
      },
      "execution_count": null,
      "outputs": [
        {
          "output_type": "stream",
          "name": "stdout",
          "text": [
            "2022-03-05 16:01:13.149 INFO    numexpr.utils: NumExpr defaulting to 2 threads.\n",
            "Usage: streamlit run [OPTIONS] TARGET [ARGS]...\n",
            "\n",
            "Error: Invalid value: File does not exist: app.py\n",
            "\u001b[K\u001b[?25hnpx: installed 22 in 4.051s\n",
            "your url is: https://mean-cougar-40.loca.lt\n"
          ]
        }
      ]
    }
  ]
}